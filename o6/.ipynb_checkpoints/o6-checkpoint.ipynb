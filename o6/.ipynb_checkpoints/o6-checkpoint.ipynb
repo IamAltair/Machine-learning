{
 "cells": [
  {
   "cell_type": "code",
   "execution_count": 25,
   "metadata": {},
   "outputs": [
    {
     "name": "stdout",
     "output_type": "stream",
     "text": [
      "[[0 0 0 ... 0 1 0]\n",
      " [0 0 0 ... 0 0 0]\n",
      " [1 0 0 ... 0 0 0]\n",
      " ...\n",
      " [0 0 1 ... 0 0 0]\n",
      " [0 0 0 ... 0 0 0]\n",
      " [0 0 0 ... 0 0 0]]\n",
      "[0 1 1 ... 1 0 1]\n"
     ]
    },
    {
     "data": {
      "text/plain": [
       "array(['odor_f', 'odor_n', 'stalk-surface-above-ring_k'], dtype=object)"
      ]
     },
     "execution_count": 25,
     "metadata": {},
     "output_type": "execute_result"
    }
   ],
   "source": [
    "# Standard imports\n",
    "import pandas as pd\n",
    "import matplotlib.pyplot as plt\n",
    "import numpy as np\n",
    "from sklearn.feature_selection import SelectKBest\n",
    "from sklearn.feature_selection import chi2\n",
    "from sklearn import datasets\n",
    "\n",
    "# Load the mushroom data\n",
    "mushroom_data = pd.read_csv(\"agaricus-lepiota.csv\", header=0)\n",
    "\n",
    "dataframe = mushroom_data.drop([\"edibility\"], 1)\n",
    "X = pd.get_dummies(dataframe).values\n",
    "header = pd.get_dummies(dataframe).columns.values\n",
    "\n",
    "edibility = {\n",
    "    'e' : 1,\n",
    "    'p' : 0\n",
    "}\n",
    "y_list = []\n",
    "\n",
    "print(X)\n",
    "for i, row in mushroom_data.iterrows():\n",
    "    y_list.append(edibility[row['edibility']])\n",
    "    \n",
    "y = np.array(y_list)\n",
    "\n",
    "print(y)\n",
    "\n",
    "skb = SelectKBest(chi2, k=3)\n",
    "skb.fit(X, y)\n",
    "X_new = skb.transform(X)\n",
    "\n",
    "np.array(header)[skb.get_support(indices=True)]"
   ]
  },
  {
   "cell_type": "code",
   "execution_count": null,
   "metadata": {},
   "outputs": [],
   "source": []
  }
 ],
 "metadata": {
  "kernelspec": {
   "display_name": "Python 3",
   "language": "python",
   "name": "python3"
  },
  "language_info": {
   "codemirror_mode": {
    "name": "ipython",
    "version": 3
   },
   "file_extension": ".py",
   "mimetype": "text/x-python",
   "name": "python",
   "nbconvert_exporter": "python",
   "pygments_lexer": "ipython3",
   "version": "3.7.4"
  }
 },
 "nbformat": 4,
 "nbformat_minor": 2
}
